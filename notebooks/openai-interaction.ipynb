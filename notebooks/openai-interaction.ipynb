{
  "nbformat": 4,
  "nbformat_minor": 0,
  "metadata": {
    "colab": {
      "provenance": [],
      "authorship_tag": "ABX9TyM95s8QkYYcuenT3Y/htfpZ",
      "include_colab_link": true
    },
    "kernelspec": {
      "name": "python3",
      "display_name": "Python 3"
    },
    "language_info": {
      "name": "python"
    }
  },
  "cells": [
    {
      "cell_type": "markdown",
      "metadata": {
        "id": "view-in-github",
        "colab_type": "text"
      },
      "source": [
        "<a href=\"https://colab.research.google.com/github/kazhian/Prompt-Engineering/blob/main/notebooks/openai-interaction.ipynb\" target=\"_parent\"><img src=\"https://colab.research.google.com/assets/colab-badge.svg\" alt=\"Open In Colab\"/></a>"
      ]
    },
    {
      "cell_type": "code",
      "execution_count": 21,
      "metadata": {
        "id": "6j77WkeRnH3f"
      },
      "outputs": [],
      "source": [
        "!pip install openai --quiet"
      ]
    },
    {
      "cell_type": "code",
      "source": [
        "from openai import OpenAI\n",
        "from IPython import display\n",
        "import json"
      ],
      "metadata": {
        "id": "ueapVDTFnM3w"
      },
      "execution_count": 8,
      "outputs": []
    },
    {
      "cell_type": "code",
      "source": [
        "# Open the JSON file\n",
        "with open('openai.json', 'r') as f:\n",
        "  # Load the JSON data\n",
        "  data = json.load(f)\n",
        "\n",
        "# Extract the API key\n",
        "api_key = data['api_key']"
      ],
      "metadata": {
        "id": "xQzYGAM2oQDm"
      },
      "execution_count": 22,
      "outputs": []
    },
    {
      "cell_type": "code",
      "source": [
        "display.Markdown(f\"api_key loaded from config file: {len(api_key)} Characters\")"
      ],
      "metadata": {
        "id": "sOHvrynV8sM6",
        "outputId": "ea0c5970-92b0-4ac0-923a-36b7f9d7728e",
        "colab": {
          "base_uri": "https://localhost:8080/",
          "height": 46
        }
      },
      "execution_count": 23,
      "outputs": [
        {
          "output_type": "execute_result",
          "data": {
            "text/plain": [
              "<IPython.core.display.Markdown object>"
            ],
            "text/markdown": "api_key loaded from config file: 164 Characters"
          },
          "metadata": {},
          "execution_count": 23
        }
      ]
    },
    {
      "cell_type": "code",
      "source": [
        "# Now you can use api_key in your OpenAI client\n",
        "client = OpenAI(api_key=api_key)\n",
        "\n",
        "try:\n",
        "  completion = client.chat.completions.create(\n",
        "    model=\"gpt-4o-mini\",\n",
        "    store=True,\n",
        "    messages=[\n",
        "      {\n",
        "          \"role\": \"user\",\n",
        "          \"content\": \"write a haiku about cat\"\n",
        "      }\n",
        "    ]\n",
        "  )\n",
        "\n",
        "except Exception as e:\n",
        "  print(f\"An error occured: {e}\")"
      ],
      "metadata": {
        "id": "bvHBklqjndSo"
      },
      "execution_count": 24,
      "outputs": []
    },
    {
      "cell_type": "code",
      "source": [
        "display.Markdown(completion.choices[0].message.content)"
      ],
      "metadata": {
        "id": "066j5Jzh6uuA",
        "outputId": "2c4b612d-6ff0-46d9-e168-29e451685fa9",
        "colab": {
          "base_uri": "https://localhost:8080/",
          "height": 81
        }
      },
      "execution_count": 25,
      "outputs": [
        {
          "output_type": "execute_result",
          "data": {
            "text/plain": [
              "<IPython.core.display.Markdown object>"
            ],
            "text/markdown": "Silent paws tread light,  \nWhiskers twitch in soft moonlight,  \nDreams of night take flight."
          },
          "metadata": {},
          "execution_count": 25
        }
      ]
    }
  ]
}